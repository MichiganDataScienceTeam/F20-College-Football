{
 "cells": [
  {
   "cell_type": "code",
   "execution_count": 1,
   "metadata": {},
   "outputs": [],
   "source": [
    "import pandas as pd\n",
    "import numpy as np\n",
    "from sklearn.ensemble import RandomForestClassifier\n",
    "from sklearn.model_selection import train_test_split"
   ]
  },
  {
   "cell_type": "code",
   "execution_count": 2,
   "metadata": {},
   "outputs": [],
   "source": [
    "dataset = pd.read_csv(\"../data/decision_tree_sample.csv\")"
   ]
  },
  {
   "cell_type": "markdown",
   "metadata": {},
   "source": [
    "Variables to track:\n",
    "\n",
    "|Variable | Description|\n",
    "|:--|:--|\n",
    "|Down          |The current down (1st, 2nd, 3rd, or 4th)|\n",
    "|Score         |Difference in score between the two teams|\n",
    "|Seconds       |Number of seconds remaining in the game|\n",
    "|AdjustedScore |Score / sqrt(Seconds + 1)|\n",
    "|Spread        |Las Vegas pre-game point spread|\n",
    "|TIMO          |Time outs remaining offense|\n",
    "|TIMD          |Time outs remaining defense|\n",
    "|TOTp          |Total points scored|\n",
    "|Yardline      |Yards from own goal line|\n",
    "|YTG           |Yards to go for a first down|"
   ]
  },
  {
   "cell_type": "code",
   "execution_count": 3,
   "metadata": {},
   "outputs": [
    {
     "data": {
      "text/plain": [
       "Index(['id', 'offense', 'offense_conference', 'defense', 'defense_conference',\n",
       "       'home', 'away', 'offense_score', 'defense_score', 'game_id', 'drive_id',\n",
       "       'drive_number', 'play_number', 'period', 'clock', 'offense_timeouts',\n",
       "       'defense_timeouts', 'yard_line', 'yards_to_goal', 'down', 'distance',\n",
       "       'scoring', 'yards_gained', 'play_type', 'play_text', 'ppa',\n",
       "       'time_remaining', 'score', 'adj_score', 'target',\n",
       "       'yards_from_own_goal_line', 'yards_to_go_for_first_down', 'defense_elo',\n",
       "       'offense_elo'],\n",
       "      dtype='object')"
      ]
     },
     "execution_count": 3,
     "metadata": {},
     "output_type": "execute_result"
    }
   ],
   "source": [
    "dataset.columns"
   ]
  },
  {
   "cell_type": "code",
   "execution_count": 4,
   "metadata": {},
   "outputs": [
    {
     "data": {
      "text/plain": [
       "0        False\n",
       "1        False\n",
       "2         True\n",
       "3        False\n",
       "4         True\n",
       "         ...  \n",
       "99995    False\n",
       "99996    False\n",
       "99997    False\n",
       "99998     True\n",
       "99999     True\n",
       "Name: target, Length: 100000, dtype: bool"
      ]
     },
     "execution_count": 4,
     "metadata": {},
     "output_type": "execute_result"
    }
   ],
   "source": [
    "dataset[\"target\"]"
   ]
  },
  {
   "cell_type": "code",
   "execution_count": 5,
   "metadata": {},
   "outputs": [],
   "source": [
    "X = dataset[[\"down\",\n",
    "             \"score\",\n",
    "             \"time_remaining\",\n",
    "             \"adj_score\",\n",
    "             \"yards_from_own_goal_line\",\n",
    "             \"yards_to_go_for_first_down\",\n",
    "             \"defense_elo\",\n",
    "             \"offense_elo\",\n",
    "             \"offense_timeouts\",\n",
    "             \"defense_timeouts\",\n",
    "             \"offense_score\",\n",
    "             \"defense_score\"]].fillna(0)\n",
    "\n",
    "y = dataset[\"target\"]"
   ]
  },
  {
   "cell_type": "code",
   "execution_count": 6,
   "metadata": {},
   "outputs": [
    {
     "data": {
      "text/plain": [
       "0.84415"
      ]
     },
     "execution_count": 6,
     "metadata": {},
     "output_type": "execute_result"
    }
   ],
   "source": [
    "X_train, X_test, y_train, y_test = train_test_split(X, y, test_size=0.2)\n",
    "\n",
    "clf = RandomForestClassifier()\n",
    "clf.fit(X_train, y_train)\n",
    "clf.score(X_test, y_test)"
   ]
  },
  {
   "cell_type": "code",
   "execution_count": 7,
   "metadata": {},
   "outputs": [
    {
     "data": {
      "text/plain": [
       "array([0.0224986 , 0.18204318, 0.07907132, 0.23962639, 0.06829132,\n",
       "       0.03786077, 0.10931615, 0.10927977, 0.01378841, 0.01395843,\n",
       "       0.06185279, 0.06241287])"
      ]
     },
     "execution_count": 7,
     "metadata": {},
     "output_type": "execute_result"
    }
   ],
   "source": [
    "clf.feature_importances_"
   ]
  },
  {
   "cell_type": "code",
   "execution_count": 8,
   "metadata": {},
   "outputs": [
    {
     "data": {
      "text/plain": [
       "array([ 8,  9,  0,  5, 10, 11,  4,  2,  7,  6,  1,  3])"
      ]
     },
     "execution_count": 8,
     "metadata": {},
     "output_type": "execute_result"
    }
   ],
   "source": [
    "np.argsort(clf.feature_importances_)"
   ]
  },
  {
   "cell_type": "code",
   "execution_count": 11,
   "metadata": {},
   "outputs": [
    {
     "data": {
      "text/plain": [
       "array(['offense_timeouts', 'defense_timeouts', 'down',\n",
       "       'yards_to_go_for_first_down', 'offense_score', 'defense_score',\n",
       "       'yards_from_own_goal_line', 'time_remaining', 'offense_elo',\n",
       "       'defense_elo', 'score', 'adj_score'], dtype='<U26')"
      ]
     },
     "execution_count": 11,
     "metadata": {},
     "output_type": "execute_result"
    }
   ],
   "source": [
    "features = np.array([\n",
    "    \"down\",\n",
    "    \"score\",\n",
    "    \"time_remaining\",\n",
    "    \"adj_score\",\n",
    "    \"yards_from_own_goal_line\",\n",
    "    \"yards_to_go_for_first_down\",\n",
    "    \"defense_elo\",\n",
    "    \"offense_elo\",\n",
    "    \"offense_timeouts\",\n",
    "    \"defense_timeouts\",\n",
    "    \"offense_score\",\n",
    "    \"defense_score\",\n",
    "])\n",
    "\n",
    "features[np.argsort(clf.feature_importances_)]"
   ]
  }
 ],
 "metadata": {
  "kernelspec": {
   "display_name": "Python 3",
   "language": "python",
   "name": "python3"
  },
  "language_info": {
   "codemirror_mode": {
    "name": "ipython",
    "version": 3
   },
   "file_extension": ".py",
   "mimetype": "text/x-python",
   "name": "python",
   "nbconvert_exporter": "python",
   "pygments_lexer": "ipython3",
   "version": "3.8.5"
  }
 },
 "nbformat": 4,
 "nbformat_minor": 4
}
