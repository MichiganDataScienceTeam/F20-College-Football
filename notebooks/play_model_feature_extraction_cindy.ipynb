{
 "cells": [
  {
   "cell_type": "code",
   "execution_count": 39,
   "metadata": {},
   "outputs": [],
   "source": [
    "import pandas as pd \n",
    "import numpy as np\n",
    "import matplotlib as plt\n",
    "import sklearn\n",
    "import json\n",
    "import ast\n",
    "import math"
   ]
  },
  {
   "cell_type": "code",
   "execution_count": 2,
   "metadata": {},
   "outputs": [],
   "source": [
    "df = pd.read_csv(\"../data/play_by_play_fbs_regular_all.csv\")"
   ]
  },
  {
   "cell_type": "code",
   "execution_count": 3,
   "metadata": {},
   "outputs": [],
   "source": [
    "np.random.seed(12)"
   ]
  },
  {
   "cell_type": "code",
   "execution_count": 4,
   "metadata": {},
   "outputs": [],
   "source": [
    "sample = df.sample(100_000).copy()"
   ]
  },
  {
   "cell_type": "code",
   "execution_count": 8,
   "metadata": {},
   "outputs": [],
   "source": [
    "def time_remaining(row):\n",
    "    period = int(row.period)\n",
    "    time = ast.literal_eval(row.clock)\n",
    "    remaining = ((4 - period) * 15 * 60) + (time['minutes'] * 60) + time['seconds']\n",
    "    return remaining\n",
    "\n",
    "sample['time_remaining'] = sample[['period', 'clock']].apply(time_remaining, axis=1)"
   ]
  },
  {
   "cell_type": "code",
   "execution_count": 16,
   "metadata": {},
   "outputs": [],
   "source": [
    "def score(row):\n",
    "    off_score = int(row.offense_score)\n",
    "    def_score = int(row.defense_score)\n",
    "    return off_score - def_score\n",
    "    \n",
    "sample['score'] = sample[['offense_score', 'defense_score']].apply(score, axis=1)"
   ]
  },
  {
   "cell_type": "code",
   "execution_count": 62,
   "metadata": {},
   "outputs": [],
   "source": [
    "# Adjusted Score = Score / sqrt(Seconds + 1)\n",
    "def adjusted_score(row):\n",
    "    time_remaining = row.time_remaining + 1\n",
    "    score = row.score\n",
    "    if time_remaining < 0:\n",
    "        adj_score = None\n",
    "    else:\n",
    "        adj_score = score / math.sqrt(time_remaining)\n",
    "    return adj_score\n",
    "    \n",
    "sample['adj_score'] = sample[['score', 'time_remaining']].apply(adjusted_score, axis=1)"
   ]
  },
  {
   "cell_type": "code",
   "execution_count": null,
   "metadata": {},
   "outputs": [],
   "source": []
  }
 ],
 "metadata": {
  "kernelspec": {
   "display_name": "Python 3",
   "language": "python",
   "name": "python3"
  },
  "language_info": {
   "codemirror_mode": {
    "name": "ipython",
    "version": 3
   },
   "file_extension": ".py",
   "mimetype": "text/x-python",
   "name": "python",
   "nbconvert_exporter": "python",
   "pygments_lexer": "ipython3",
   "version": "3.8.3"
  }
 },
 "nbformat": 4,
 "nbformat_minor": 4
}
