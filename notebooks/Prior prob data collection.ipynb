{
 "cells": [
  {
   "cell_type": "markdown",
   "metadata": {},
   "source": [
    "# Data of Game Results"
   ]
  },
  {
   "cell_type": "code",
   "execution_count": 1,
   "metadata": {},
   "outputs": [],
   "source": [
    "import requests\n",
    "import pandas as pd\n",
    "\n",
    "pbp = []\n",
    "\n",
    "for year in range(2001, 2020):\n",
    "    response = requests.get(\"https://api.collegefootballdata.com/games?year={}&seasonType=regular\".format(year))\n",
    "    data_json = response.json()\n",
    "    pbp.extend(data_json)"
   ]
  },
  {
   "cell_type": "code",
   "execution_count": 2,
   "metadata": {},
   "outputs": [
    {
     "data": {
      "text/plain": [
       "Index(['id', 'season', 'week', 'season_type', 'start_date', 'start_time_tbd',\n",
       "       'neutral_site', 'conference_game', 'attendance', 'venue_id', 'venue',\n",
       "       'home_id', 'home_team', 'home_conference', 'home_points',\n",
       "       'home_line_scores', 'home_post_win_prob', 'away_id', 'away_team',\n",
       "       'away_conference', 'away_points', 'away_line_scores',\n",
       "       'away_post_win_prob', 'excitement_index'],\n",
       "      dtype='object')"
      ]
     },
     "execution_count": 2,
     "metadata": {},
     "output_type": "execute_result"
    }
   ],
   "source": [
    "df = pd.DataFrame(pbp)\n",
    "df.columns"
   ]
  },
  {
   "cell_type": "code",
   "execution_count": 4,
   "metadata": {},
   "outputs": [],
   "source": [
    "df.to_csv(\"../data/game_results.csv\")"
   ]
  },
  {
   "cell_type": "markdown",
   "metadata": {},
   "source": [
    "# Data of Game Stats"
   ]
  },
  {
   "cell_type": "code",
   "execution_count": 57,
   "metadata": {},
   "outputs": [],
   "source": [
    "pbp1 = []\n",
    "\n",
    "for year in range(2001, 2021):\n",
    "    for week in range(1,20):\n",
    "        response = requests.get(\"https://api.collegefootballdata.com/games/teams?year={}&week={}&seasonType=regular\".format(year,week))\n",
    "        data_json = response.json()\n",
    "        for i in range(len(data_json)):\n",
    "            teams = data_json[i].pop('teams')\n",
    "            for team in teams:\n",
    "                homeAway = team.pop('homeAway')\n",
    "                stats = team.pop('stats')\n",
    "                data_json[i].update({(homeAway + '.' + k):v  for k,v in team.items()})   \n",
    "                data_json[i].update({(homeAway + '.' + d['category']):d['stat'] for d in stats})                                 \n",
    "            data_json[i].update({'Year': year, 'Week': week})\n",
    "        #print(data_json)\n",
    "        pbp1.extend(data_json)\n",
    "df1 = pd.DataFrame(pbp1)"
   ]
  },
  {
   "cell_type": "code",
   "execution_count": 68,
   "metadata": {},
   "outputs": [
    {
     "data": {
      "text/plain": [
       "(12809, 79)"
      ]
     },
     "execution_count": 68,
     "metadata": {},
     "output_type": "execute_result"
    }
   ],
   "source": [
    "df1.shape"
   ]
  },
  {
   "cell_type": "code",
   "execution_count": 66,
   "metadata": {},
   "outputs": [
    {
     "data": {
      "text/plain": [
       "id                          12809\n",
       "home.school                 12809\n",
       "home.conference             12795\n",
       "home.points                 12809\n",
       "home.fumblesRecovered       12796\n",
       "home.rushingTDs             12780\n",
       "home.puntReturnYards        10938\n",
       "home.puntReturnTDs          10938\n",
       "home.puntReturns            10938\n",
       "home.passingTDs             12750\n",
       "home.kickingPoints          12644\n",
       "home.firstDowns             12784\n",
       "home.thirdDownEff           12784\n",
       "home.fourthDownEff          12784\n",
       "home.totalYards             12784\n",
       "home.netPassingYards        12784\n",
       "home.completionAttempts     12784\n",
       "home.yardsPerPass           12784\n",
       "home.rushingYards           12784\n",
       "home.rushingAttempts        12784\n",
       "home.yardsPerRushAttempt    12784\n",
       "home.totalPenaltiesYards    12784\n",
       "home.turnovers              12784\n",
       "home.fumblesLost            12784\n",
       "home.interceptions          12784\n",
       "home.possessionTime         12768\n",
       "away.school                 12809\n",
       "away.conference             11293\n",
       "away.points                 12809\n",
       "away.fumblesRecovered       12801\n",
       "away.rushingTDs             12778\n",
       "away.puntReturnYards         9798\n",
       "away.puntReturnTDs           9798\n",
       "away.puntReturns             9798\n",
       "away.passingTDs             12743\n",
       "away.kickingPoints          12329\n",
       "away.interceptionYards       7091\n",
       "away.interceptionTDs         7091\n",
       "away.passesIntercepted       7091\n",
       "away.firstDowns             12782\n",
       "away.thirdDownEff           12782\n",
       "away.fourthDownEff          12782\n",
       "away.totalYards             12782\n",
       "away.netPassingYards        12782\n",
       "away.completionAttempts     12782\n",
       "away.yardsPerPass           12782\n",
       "away.rushingYards           12782\n",
       "away.rushingAttempts        12782\n",
       "away.yardsPerRushAttempt    12782\n",
       "away.totalPenaltiesYards    12782\n",
       "away.turnovers              12782\n",
       "away.fumblesLost            12782\n",
       "away.interceptions          12782\n",
       "away.possessionTime         12743\n",
       "Year                        12809\n",
       "Week                        12809\n",
       "home.interceptionYards       7907\n",
       "home.interceptionTDs         7907\n",
       "home.passesIntercepted       7907\n",
       "away.kickReturnYards         8809\n",
       "away.kickReturnTDs           8809\n",
       "away.kickReturns             8809\n",
       "home.kickReturnYards         8517\n",
       "home.kickReturnTDs           8517\n",
       "home.kickReturns             8517\n",
       "home.totalFumbles            2559\n",
       "home.tacklesForLoss          3551\n",
       "home.defensiveTDs            3551\n",
       "home.tackles                 3551\n",
       "home.sacks                   3551\n",
       "home.qbHurries               3551\n",
       "home.passesDeflected         3551\n",
       "away.totalFumbles            2560\n",
       "away.tacklesForLoss          3536\n",
       "away.defensiveTDs            3536\n",
       "away.tackles                 3536\n",
       "away.sacks                   3536\n",
       "away.qbHurries               3536\n",
       "away.passesDeflected         3536\n",
       "dtype: int64"
      ]
     },
     "execution_count": 66,
     "metadata": {},
     "output_type": "execute_result"
    }
   ],
   "source": [
    "pd.set_option('display.max_rows', 500)\n",
    "df1.count()"
   ]
  },
  {
   "cell_type": "code",
   "execution_count": 69,
   "metadata": {},
   "outputs": [],
   "source": [
    "df1.to_csv(\"../data/game_stats.csv\")"
   ]
  }
 ],
 "metadata": {
  "kernelspec": {
   "display_name": "Python 3",
   "language": "python",
   "name": "python3"
  },
  "language_info": {
   "codemirror_mode": {
    "name": "ipython",
    "version": 3
   },
   "file_extension": ".py",
   "mimetype": "text/x-python",
   "name": "python",
   "nbconvert_exporter": "python",
   "pygments_lexer": "ipython3",
   "version": "3.7.4"
  }
 },
 "nbformat": 4,
 "nbformat_minor": 4
}
