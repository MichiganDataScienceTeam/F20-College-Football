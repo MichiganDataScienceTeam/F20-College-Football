{
 "cells": [
  {
   "cell_type": "code",
   "execution_count": 1,
   "metadata": {},
   "outputs": [],
   "source": [
    "import pandas as pd\n",
    "import numpy as np\n",
    "from sklearn.ensemble import RandomForestClassifier\n",
    "from sklearn.model_selection import train_test_split"
   ]
  },
  {
   "cell_type": "code",
   "execution_count": 2,
   "metadata": {},
   "outputs": [],
   "source": [
    "dataset = pd.read_csv(\"../data/decision_tree_sample.csv\")"
   ]
  },
  {
   "cell_type": "markdown",
   "metadata": {},
   "source": [
    "Variables to track:\n",
    "\n",
    "|Variable | Description|\n",
    "|:--|:--|\n",
    "|Down          |The current down (1st, 2nd, 3rd, or 4th)|\n",
    "|Score         |Difference in score between the two teams|\n",
    "|Seconds       |Number of seconds remaining in the game|\n",
    "|AdjustedScore |Score / sqrt(Seconds + 1)|\n",
    "|Spread        |Las Vegas pre-game point spread|\n",
    "|TIMO          |Time outs remaining offense|\n",
    "|TIMD          |Time outs remaining defense|\n",
    "|TOTp          |Total points scored|\n",
    "|Yardline      |Yards from own goal line|\n",
    "|YTG           |Yards to go for a first down|"
   ]
  },
  {
   "cell_type": "code",
   "execution_count": 3,
   "metadata": {},
   "outputs": [
    {
     "data": {
      "text/plain": [
       "Index(['id', 'offense', 'offense_conference', 'defense', 'defense_conference',\n",
       "       'home', 'away', 'offense_score', 'defense_score', 'game_id', 'drive_id',\n",
       "       'drive_number', 'play_number', 'period', 'clock', 'offense_timeouts',\n",
       "       'defense_timeouts', 'yard_line', 'yards_to_goal', 'down', 'distance',\n",
       "       'scoring', 'yards_gained', 'play_type', 'play_text', 'ppa',\n",
       "       'time_remaining', 'score', 'adj_score', 'target',\n",
       "       'yards_from_own_goal_line', 'yards_to_go_for_first_down', 'defense_elo',\n",
       "       'offense_elo'],\n",
       "      dtype='object')"
      ]
     },
     "execution_count": 3,
     "metadata": {},
     "output_type": "execute_result"
    }
   ],
   "source": [
    "dataset.columns"
   ]
  },
  {
   "cell_type": "code",
   "execution_count": 4,
   "metadata": {},
   "outputs": [
    {
     "data": {
      "text/html": [
       "<div>\n",
       "<style scoped>\n",
       "    .dataframe tbody tr th:only-of-type {\n",
       "        vertical-align: middle;\n",
       "    }\n",
       "\n",
       "    .dataframe tbody tr th {\n",
       "        vertical-align: top;\n",
       "    }\n",
       "\n",
       "    .dataframe thead th {\n",
       "        text-align: right;\n",
       "    }\n",
       "</style>\n",
       "<table border=\"1\" class=\"dataframe\">\n",
       "  <thead>\n",
       "    <tr style=\"text-align: right;\">\n",
       "      <th></th>\n",
       "      <th>id</th>\n",
       "      <th>offense</th>\n",
       "      <th>offense_conference</th>\n",
       "      <th>defense</th>\n",
       "      <th>defense_conference</th>\n",
       "      <th>home</th>\n",
       "      <th>away</th>\n",
       "      <th>offense_score</th>\n",
       "      <th>defense_score</th>\n",
       "      <th>game_id</th>\n",
       "      <th>...</th>\n",
       "      <th>play_text</th>\n",
       "      <th>ppa</th>\n",
       "      <th>time_remaining</th>\n",
       "      <th>score</th>\n",
       "      <th>adj_score</th>\n",
       "      <th>target</th>\n",
       "      <th>yards_from_own_goal_line</th>\n",
       "      <th>yards_to_go_for_first_down</th>\n",
       "      <th>defense_elo</th>\n",
       "      <th>offense_elo</th>\n",
       "    </tr>\n",
       "  </thead>\n",
       "  <tbody>\n",
       "    <tr>\n",
       "      <th>0</th>\n",
       "      <td>401112133104877811</td>\n",
       "      <td>TCU</td>\n",
       "      <td>Big 12</td>\n",
       "      <td>Texas Tech</td>\n",
       "      <td>Big 12</td>\n",
       "      <td>Texas Tech</td>\n",
       "      <td>TCU</td>\n",
       "      <td>30</td>\n",
       "      <td>31</td>\n",
       "      <td>401112133</td>\n",
       "      <td>...</td>\n",
       "      <td>Max Duggan pass complete to John Stephens Jr. ...</td>\n",
       "      <td>0.797657</td>\n",
       "      <td>741</td>\n",
       "      <td>-1</td>\n",
       "      <td>-0.036711</td>\n",
       "      <td>True</td>\n",
       "      <td>76</td>\n",
       "      <td>10</td>\n",
       "      <td>1562.118396</td>\n",
       "      <td>1668.668838</td>\n",
       "    </tr>\n",
       "    <tr>\n",
       "      <th>1</th>\n",
       "      <td>302752649118</td>\n",
       "      <td>Wyoming</td>\n",
       "      <td>Mountain West</td>\n",
       "      <td>Toledo</td>\n",
       "      <td>Mid-American</td>\n",
       "      <td>Toledo</td>\n",
       "      <td>Wyoming</td>\n",
       "      <td>17</td>\n",
       "      <td>0</td>\n",
       "      <td>302752649</td>\n",
       "      <td>...</td>\n",
       "      <td>Austyn Carta-Samuels rush for 1 yard to the To...</td>\n",
       "      <td>-0.410472</td>\n",
       "      <td>1648</td>\n",
       "      <td>17</td>\n",
       "      <td>0.418638</td>\n",
       "      <td>True</td>\n",
       "      <td>82</td>\n",
       "      <td>4</td>\n",
       "      <td>1557.767925</td>\n",
       "      <td>1484.171947</td>\n",
       "    </tr>\n",
       "    <tr>\n",
       "      <th>2</th>\n",
       "      <td>283200278056</td>\n",
       "      <td>New Mexico State</td>\n",
       "      <td>Western Athletic</td>\n",
       "      <td>Fresno State</td>\n",
       "      <td>Western Athletic</td>\n",
       "      <td>Fresno State</td>\n",
       "      <td>New Mexico State</td>\n",
       "      <td>10</td>\n",
       "      <td>3</td>\n",
       "      <td>283200278</td>\n",
       "      <td>...</td>\n",
       "      <td>New Mexico St penalty 5 yard offside accepted,...</td>\n",
       "      <td>NaN</td>\n",
       "      <td>2765</td>\n",
       "      <td>7</td>\n",
       "      <td>0.133098</td>\n",
       "      <td>False</td>\n",
       "      <td>30</td>\n",
       "      <td>0</td>\n",
       "      <td>1525.882292</td>\n",
       "      <td>1297.346558</td>\n",
       "    </tr>\n",
       "    <tr>\n",
       "      <th>3</th>\n",
       "      <td>252880194073</td>\n",
       "      <td>Michigan State</td>\n",
       "      <td>Big Ten</td>\n",
       "      <td>Ohio State</td>\n",
       "      <td>Big Ten</td>\n",
       "      <td>Ohio State</td>\n",
       "      <td>Michigan State</td>\n",
       "      <td>10</td>\n",
       "      <td>7</td>\n",
       "      <td>252880194</td>\n",
       "      <td>...</td>\n",
       "      <td>Jelani Nantambo rush for 6 yards to the MSU 48.</td>\n",
       "      <td>0.395721</td>\n",
       "      <td>2420</td>\n",
       "      <td>3</td>\n",
       "      <td>0.060971</td>\n",
       "      <td>False</td>\n",
       "      <td>42</td>\n",
       "      <td>10</td>\n",
       "      <td>1843.976595</td>\n",
       "      <td>1660.906975</td>\n",
       "    </tr>\n",
       "    <tr>\n",
       "      <th>4</th>\n",
       "      <td>400547884101955501</td>\n",
       "      <td>Baylor</td>\n",
       "      <td>Big 12</td>\n",
       "      <td>Kansas</td>\n",
       "      <td>Big 12</td>\n",
       "      <td>Baylor</td>\n",
       "      <td>Kansas</td>\n",
       "      <td>13</td>\n",
       "      <td>7</td>\n",
       "      <td>400547884</td>\n",
       "      <td>...</td>\n",
       "      <td>Bryce Petty run for 7 yds to the Kans 3 for a ...</td>\n",
       "      <td>NaN</td>\n",
       "      <td>2984</td>\n",
       "      <td>6</td>\n",
       "      <td>0.109819</td>\n",
       "      <td>True</td>\n",
       "      <td>90</td>\n",
       "      <td>7</td>\n",
       "      <td>1394.720220</td>\n",
       "      <td>1629.140650</td>\n",
       "    </tr>\n",
       "  </tbody>\n",
       "</table>\n",
       "<p>5 rows × 34 columns</p>\n",
       "</div>"
      ],
      "text/plain": [
       "                   id           offense offense_conference       defense  \\\n",
       "0  401112133104877811               TCU             Big 12    Texas Tech   \n",
       "1        302752649118           Wyoming      Mountain West        Toledo   \n",
       "2        283200278056  New Mexico State   Western Athletic  Fresno State   \n",
       "3        252880194073    Michigan State            Big Ten    Ohio State   \n",
       "4  400547884101955501            Baylor             Big 12        Kansas   \n",
       "\n",
       "  defense_conference          home              away  offense_score  \\\n",
       "0             Big 12    Texas Tech               TCU             30   \n",
       "1       Mid-American        Toledo           Wyoming             17   \n",
       "2   Western Athletic  Fresno State  New Mexico State             10   \n",
       "3            Big Ten    Ohio State    Michigan State             10   \n",
       "4             Big 12        Baylor            Kansas             13   \n",
       "\n",
       "   defense_score    game_id  ...  \\\n",
       "0             31  401112133  ...   \n",
       "1              0  302752649  ...   \n",
       "2              3  283200278  ...   \n",
       "3              7  252880194  ...   \n",
       "4              7  400547884  ...   \n",
       "\n",
       "                                           play_text       ppa  \\\n",
       "0  Max Duggan pass complete to John Stephens Jr. ...  0.797657   \n",
       "1  Austyn Carta-Samuels rush for 1 yard to the To... -0.410472   \n",
       "2  New Mexico St penalty 5 yard offside accepted,...       NaN   \n",
       "3    Jelani Nantambo rush for 6 yards to the MSU 48.  0.395721   \n",
       "4  Bryce Petty run for 7 yds to the Kans 3 for a ...       NaN   \n",
       "\n",
       "   time_remaining  score adj_score  target  yards_from_own_goal_line  \\\n",
       "0             741     -1 -0.036711    True                        76   \n",
       "1            1648     17  0.418638    True                        82   \n",
       "2            2765      7  0.133098   False                        30   \n",
       "3            2420      3  0.060971   False                        42   \n",
       "4            2984      6  0.109819    True                        90   \n",
       "\n",
       "   yards_to_go_for_first_down  defense_elo  offense_elo  \n",
       "0                          10  1562.118396  1668.668838  \n",
       "1                           4  1557.767925  1484.171947  \n",
       "2                           0  1525.882292  1297.346558  \n",
       "3                          10  1843.976595  1660.906975  \n",
       "4                           7  1394.720220  1629.140650  \n",
       "\n",
       "[5 rows x 34 columns]"
      ]
     },
     "execution_count": 4,
     "metadata": {},
     "output_type": "execute_result"
    }
   ],
   "source": [
    "dataset.head()"
   ]
  },
  {
   "cell_type": "code",
   "execution_count": 5,
   "metadata": {},
   "outputs": [
    {
     "data": {
      "text/plain": [
       "0         True\n",
       "1         True\n",
       "2        False\n",
       "3        False\n",
       "4         True\n",
       "         ...  \n",
       "99995     True\n",
       "99996     True\n",
       "99997     True\n",
       "99998    False\n",
       "99999     True\n",
       "Name: target, Length: 100000, dtype: bool"
      ]
     },
     "execution_count": 5,
     "metadata": {},
     "output_type": "execute_result"
    }
   ],
   "source": [
    "dataset[\"target\"]"
   ]
  },
  {
   "cell_type": "code",
   "execution_count": 6,
   "metadata": {},
   "outputs": [],
   "source": [
    "X = dataset[[\"down\",\n",
    "             \"score\",\n",
    "             \"time_remaining\",\n",
    "             \"adj_score\",\n",
    "             \"yards_from_own_goal_line\",\n",
    "             \"yards_to_go_for_first_down\",\n",
    "             \"defense_elo\",\n",
    "             \"offense_elo\",\n",
    "             \"offense_timeouts\",\n",
    "             \"defense_timeouts\",\n",
    "             \"offense_score\",\n",
    "             \"defense_score\"]].fillna(0)\n",
    "\n",
    "y = dataset[\"target\"]"
   ]
  },
  {
   "cell_type": "code",
   "execution_count": 7,
   "metadata": {
    "scrolled": true
   },
   "outputs": [
    {
     "data": {
      "text/plain": [
       "0.83815"
      ]
     },
     "execution_count": 7,
     "metadata": {},
     "output_type": "execute_result"
    }
   ],
   "source": [
    "X_train, X_test, y_train, y_test = train_test_split(X, y, test_size=0.2)\n",
    "\n",
    "clf = RandomForestClassifier()\n",
    "clf.fit(X_train, y_train)\n",
    "clf.score(X_test, y_test)"
   ]
  },
  {
   "cell_type": "code",
   "execution_count": 8,
   "metadata": {
    "scrolled": true
   },
   "outputs": [
    {
     "data": {
      "text/html": [
       "<div>\n",
       "<style scoped>\n",
       "    .dataframe tbody tr th:only-of-type {\n",
       "        vertical-align: middle;\n",
       "    }\n",
       "\n",
       "    .dataframe tbody tr th {\n",
       "        vertical-align: top;\n",
       "    }\n",
       "\n",
       "    .dataframe thead th {\n",
       "        text-align: right;\n",
       "    }\n",
       "</style>\n",
       "<table border=\"1\" class=\"dataframe\">\n",
       "  <thead>\n",
       "    <tr style=\"text-align: right;\">\n",
       "      <th></th>\n",
       "      <th>down</th>\n",
       "      <th>score</th>\n",
       "      <th>time_remaining</th>\n",
       "      <th>adj_score</th>\n",
       "      <th>yards_from_own_goal_line</th>\n",
       "      <th>yards_to_go_for_first_down</th>\n",
       "      <th>defense_elo</th>\n",
       "      <th>offense_elo</th>\n",
       "      <th>offense_timeouts</th>\n",
       "      <th>defense_timeouts</th>\n",
       "      <th>offense_score</th>\n",
       "      <th>defense_score</th>\n",
       "    </tr>\n",
       "  </thead>\n",
       "  <tbody>\n",
       "    <tr>\n",
       "      <th>0</th>\n",
       "      <td>1</td>\n",
       "      <td>-1</td>\n",
       "      <td>741</td>\n",
       "      <td>-0.036711</td>\n",
       "      <td>76</td>\n",
       "      <td>10</td>\n",
       "      <td>1562.118396</td>\n",
       "      <td>1668.668838</td>\n",
       "      <td>3.0</td>\n",
       "      <td>3.0</td>\n",
       "      <td>30</td>\n",
       "      <td>31</td>\n",
       "    </tr>\n",
       "    <tr>\n",
       "      <th>1</th>\n",
       "      <td>3</td>\n",
       "      <td>17</td>\n",
       "      <td>1648</td>\n",
       "      <td>0.418638</td>\n",
       "      <td>82</td>\n",
       "      <td>4</td>\n",
       "      <td>1557.767925</td>\n",
       "      <td>1484.171947</td>\n",
       "      <td>0.0</td>\n",
       "      <td>0.0</td>\n",
       "      <td>17</td>\n",
       "      <td>0</td>\n",
       "    </tr>\n",
       "    <tr>\n",
       "      <th>2</th>\n",
       "      <td>1</td>\n",
       "      <td>7</td>\n",
       "      <td>2765</td>\n",
       "      <td>0.133098</td>\n",
       "      <td>30</td>\n",
       "      <td>0</td>\n",
       "      <td>1525.882292</td>\n",
       "      <td>1297.346558</td>\n",
       "      <td>0.0</td>\n",
       "      <td>0.0</td>\n",
       "      <td>10</td>\n",
       "      <td>3</td>\n",
       "    </tr>\n",
       "    <tr>\n",
       "      <th>3</th>\n",
       "      <td>1</td>\n",
       "      <td>3</td>\n",
       "      <td>2420</td>\n",
       "      <td>0.060971</td>\n",
       "      <td>42</td>\n",
       "      <td>10</td>\n",
       "      <td>1843.976595</td>\n",
       "      <td>1660.906975</td>\n",
       "      <td>0.0</td>\n",
       "      <td>0.0</td>\n",
       "      <td>10</td>\n",
       "      <td>7</td>\n",
       "    </tr>\n",
       "    <tr>\n",
       "      <th>4</th>\n",
       "      <td>3</td>\n",
       "      <td>6</td>\n",
       "      <td>2984</td>\n",
       "      <td>0.109819</td>\n",
       "      <td>90</td>\n",
       "      <td>7</td>\n",
       "      <td>1394.720220</td>\n",
       "      <td>1629.140650</td>\n",
       "      <td>3.0</td>\n",
       "      <td>2.0</td>\n",
       "      <td>13</td>\n",
       "      <td>7</td>\n",
       "    </tr>\n",
       "  </tbody>\n",
       "</table>\n",
       "</div>"
      ],
      "text/plain": [
       "   down  score  time_remaining  adj_score  yards_from_own_goal_line  \\\n",
       "0     1     -1             741  -0.036711                        76   \n",
       "1     3     17            1648   0.418638                        82   \n",
       "2     1      7            2765   0.133098                        30   \n",
       "3     1      3            2420   0.060971                        42   \n",
       "4     3      6            2984   0.109819                        90   \n",
       "\n",
       "   yards_to_go_for_first_down  defense_elo  offense_elo  offense_timeouts  \\\n",
       "0                          10  1562.118396  1668.668838               3.0   \n",
       "1                           4  1557.767925  1484.171947               0.0   \n",
       "2                           0  1525.882292  1297.346558               0.0   \n",
       "3                          10  1843.976595  1660.906975               0.0   \n",
       "4                           7  1394.720220  1629.140650               3.0   \n",
       "\n",
       "   defense_timeouts  offense_score  defense_score  \n",
       "0               3.0             30             31  \n",
       "1               0.0             17              0  \n",
       "2               0.0             10              3  \n",
       "3               0.0             10              7  \n",
       "4               2.0             13              7  "
      ]
     },
     "execution_count": 8,
     "metadata": {},
     "output_type": "execute_result"
    }
   ],
   "source": [
    "X.head()"
   ]
  },
  {
   "cell_type": "code",
   "execution_count": 25,
   "metadata": {},
   "outputs": [
    {
     "name": "stdout",
     "output_type": "stream",
     "text": [
      "0.9\n",
      "True\n",
      "0.99\n",
      "True\n",
      "0.31\n",
      "False\n",
      "0.19\n",
      "False\n",
      "0.96\n",
      "True\n"
     ]
    }
   ],
   "source": [
    "for index, row in X.head().iterrows():\n",
    "    prob = clf.predict_proba([row])[0][1]\n",
    "    outcome = y[index]\n",
    "    print(prob)\n",
    "    print(outcome)"
   ]
  },
  {
   "cell_type": "code",
   "execution_count": 26,
   "metadata": {},
   "outputs": [],
   "source": [
    "bin_1 = [] # 0-9%\n",
    "bin_2 = [] # 10-19%\n",
    "bin_3 = [] # 20-29%\n",
    "bin_4 = [] # 30-39%\n",
    "bin_5 = [] # 40-49%\n",
    "bin_6 = [] # 50-59%\n",
    "bin_7 = [] # 60-69%\n",
    "bin_8 = [] # 70-79%\n",
    "bin_9 = [] # 80-89%\n",
    "bin_10 = [] # 90-100%\n",
    "\n",
    "for index, row in X.iterrows():\n",
    "    prob = clf.predict_proba([row])[0][1]\n",
    "    outcome = y[index]\n",
    "    if prob < 0.1:\n",
    "        bin_1.append(outcome)\n",
    "    elif prob < 0.2:\n",
    "        bin_2.append(outcome)\n",
    "    elif prob < 0.3:\n",
    "        bin_3.append(outcome)\n",
    "    elif prob < 0.4:\n",
    "        bin_4.append(outcome)\n",
    "    elif prob < 0.5:\n",
    "        bin_5.append(outcome)\n",
    "    elif prob < 0.6:\n",
    "        bin_6.append(outcome)\n",
    "    elif prob < 0.7:\n",
    "        bin_7.append(outcome)\n",
    "    elif prob < 0.8:\n",
    "        bin_8.append(outcome)\n",
    "    elif prob < 0.9:\n",
    "        bin_9.append(outcome)\n",
    "    else:\n",
    "        bin_10.append(outcome)\n",
    "  "
   ]
  },
  {
   "cell_type": "code",
   "execution_count": 27,
   "metadata": {},
   "outputs": [
    {
     "name": "stdout",
     "output_type": "stream",
     "text": [
      "1:69\n",
      "2:191\n",
      "3:305\n",
      "4:414\n",
      "5:549\n",
      "6:771\n",
      "7:1852\n",
      "8:4946\n",
      "9:9779\n",
      "10:32881\n"
     ]
    }
   ],
   "source": [
    "bins = [bin_1, bin_2, bin_3, bin_4, bin_5, bin_6, bin_7, bin_8, bin_9, bin_10]\n",
    "x = 1\n",
    "for i in bins:\n",
    "    print(str(x) + \":\" + str(sum(i)))\n",
    "    x+=1"
   ]
  },
  {
   "cell_type": "code",
   "execution_count": 32,
   "metadata": {},
   "outputs": [
    {
     "name": "stdout",
     "output_type": "stream",
     "text": [
      "1:0.002458140363377271\n",
      "2:0.018775189226383566\n",
      "3:0.05227077977720651\n",
      "4:0.15640347563279183\n",
      "5:0.41402714932126694\n",
      "6:0.5673289183222958\n",
      "7:0.7986200948684777\n",
      "8:0.9360333080999244\n",
      "9:0.9791729248022429\n",
      "10:0.9963939393939394\n"
     ]
    }
   ],
   "source": [
    "x = 1\n",
    "pred_win = []\n",
    "for i in bins:\n",
    "    prob = sum(i)/len(i)\n",
    "    print(str(x) + \":\" + str(prob))\n",
    "    pred_win.append(prob)\n",
    "    x+=1"
   ]
  },
  {
   "cell_type": "code",
   "execution_count": 31,
   "metadata": {},
   "outputs": [],
   "source": [
    "import matplotlib.pyplot as plt\n",
    "import seaborn as sns"
   ]
  },
  {
   "cell_type": "code",
   "execution_count": 50,
   "metadata": {},
   "outputs": [
    {
     "data": {
      "text/plain": [
       "[0.2458140363377271,\n",
       " 1.8775189226383566,\n",
       " 5.227077977720651,\n",
       " 15.640347563279184,\n",
       " 41.40271493212669,\n",
       " 56.73289183222958,\n",
       " 79.86200948684777,\n",
       " 93.60333080999243,\n",
       " 97.91729248022429,\n",
       " 99.63939393939394]"
      ]
     },
     "execution_count": 50,
     "metadata": {},
     "output_type": "execute_result"
    }
   ],
   "source": [
    "pred_win = [i*100 for i in pred_win]\n",
    "pred_win"
   ]
  },
  {
   "cell_type": "code",
   "execution_count": 54,
   "metadata": {},
   "outputs": [
    {
     "data": {
      "image/png": "[encoded data removed]",
      "text/plain": [
       "<Figure size 432x288 with 1 Axes>"
      ]
     },
     "metadata": {},
     "output_type": "display_data"
    }
   ],
   "source": [
    "x_axis = ['0-9', '10-19', '20-29', '30-39', '40-49', '50-59', '60-69', '70-79', '80-89', '90-100']\n",
    "#sns.set_style(\"whitegrid\")\n",
    "plt.xlabel(\"Predicted Win Percentage\")\n",
    "plt.ylabel(\"Actual Win Percentage\")\n",
    "plt.title(\"Predicted vs. Actual Win Percentage\")\n",
    "plt.bar(x_axis, pred_win)\n",
    "plt.savefig('error_analysis.png')"
   ]
  }
 ],
 "metadata": {
  "kernelspec": {
   "display_name": "Python 3",
   "language": "python",
   "name": "python3"
  },
  "language_info": {
   "codemirror_mode": {
    "name": "ipython",
    "version": 3
   },
   "file_extension": ".py",
   "mimetype": "text/x-python",
   "name": "python",
   "nbconvert_exporter": "python",
   "pygments_lexer": "ipython3",
   "version": "3.8.3"
  }
 },
 "nbformat": 4,
 "nbformat_minor": 4
}
