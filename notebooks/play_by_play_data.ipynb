{
 "cells": [
  {
   "cell_type": "code",
   "execution_count": null,
   "metadata": {},
   "outputs": [],
   "source": [
    "import requests\n",
    "import json\n",
    "import pandas as pd"
   ]
  },
  {
   "cell_type": "code",
   "execution_count": null,
   "metadata": {
    "scrolled": false
   },
   "outputs": [],
   "source": [
    "# only gets the fbs teams\n",
    "response = requests.get(\"https://api.collegefootballdata.com/teams/fbs\")\n",
    "print(response)\n",
    "data = response.json()\n",
    "teams = [i['school'] for i in data]\n",
    "print(len(teams))"
   ]
  },
  {
   "cell_type": "code",
   "execution_count": null,
   "metadata": {
    "scrolled": true
   },
   "outputs": [],
   "source": [
    "# loop through the names of the FBS teams and get season play by play data\n",
    "play_by_play = []\n",
    "for year in range(2001, 2021):\n",
    "    # teams play 14/15 games per year (but use 20 to cover varying weeks)\n",
    "    for week in range(1, 20):\n",
    "        for team in teams:\n",
    "            query = {'seasonType': \"both\", 'team': team, 'year': year, 'week': week}\n",
    "            response = requests.get(\"https://api.collegefootballdata.com/plays\", params = query)\n",
    "            \n",
    "            # make sure response is ok\n",
    "            if response.status_code == 200:\n",
    "                drive_json = response.json()\n",
    "                play_by_play.extend(response.json())    \n",
    "                print(team, year, week, len(response.json()))"
   ]
  },
  {
   "cell_type": "code",
   "execution_count": null,
   "metadata": {},
   "outputs": [],
   "source": [
    "df = pd.DataFrame(play_by_play)"
   ]
  },
  {
   "cell_type": "code",
   "execution_count": null,
   "metadata": {},
   "outputs": [],
   "source": [
    "df"
   ]
  },
  {
   "cell_type": "code",
   "execution_count": null,
   "metadata": {},
   "outputs": [],
   "source": []
  }
 ],
 "metadata": {
  "kernelspec": {
   "display_name": "Python 3",
   "language": "python",
   "name": "python3"
  },
  "language_info": {
   "codemirror_mode": {
    "name": "ipython",
    "version": 3
   },
   "file_extension": ".py",
   "mimetype": "text/x-python",
   "name": "python",
   "nbconvert_exporter": "python",
   "pygments_lexer": "ipython3",
   "version": "3.8.3"
  }
 },
 "nbformat": 4,
 "nbformat_minor": 4
}
