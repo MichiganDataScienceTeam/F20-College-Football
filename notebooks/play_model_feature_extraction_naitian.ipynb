{
 "cells": [
  {
   "cell_type": "code",
   "execution_count": 47,
   "metadata": {},
   "outputs": [],
   "source": [
    "import pandas as pd \n",
    "import numpy as np\n",
    "import matplotlib as plt\n",
    "import sklearn\n",
    "import json\n",
    "import ast"
   ]
  },
  {
   "cell_type": "code",
   "execution_count": 48,
   "metadata": {},
   "outputs": [],
   "source": [
    "df = pd.read_csv(\"../data/play_by_play_fbs_regular_all.csv\")"
   ]
  },
  {
   "cell_type": "code",
   "execution_count": 49,
   "metadata": {},
   "outputs": [],
   "source": [
    "games = pd.read_csv(\"../data/games.csv\")"
   ]
  },
  {
   "cell_type": "code",
   "execution_count": 50,
   "metadata": {},
   "outputs": [],
   "source": [
    "np.random.seed(12)"
   ]
  },
  {
   "cell_type": "code",
   "execution_count": 51,
   "metadata": {},
   "outputs": [],
   "source": [
    "sample = df.sample(100_000).copy().reset_index()"
   ]
  },
  {
   "cell_type": "raw",
   "metadata": {},
   "source": [
    "Naitian \tDown\t\t\tThe current down (1st, 2nd, 3rd, or 4th)\n",
    "Naitian \tTarget var\t\twhether win or loss at the end of the game (I think?)"
   ]
  },
  {
   "cell_type": "code",
   "execution_count": 53,
   "metadata": {},
   "outputs": [],
   "source": [
    "joined_games = sample.merge(games, left_on=\"game_id\", right_on=\"id\", how=\"left\")\n",
    "joined_games['is_home'] = sample.offense == sample.home\n",
    "\n",
    "def outcome(row):\n",
    "    return row.home_points > row.away_points if row.is_home else row.away_points > row.home_points\n",
    "\n",
    "sample['target'] = joined_games[[\"is_home\", \"away_points\", \"home_points\"]].apply(outcome, axis=1)"
   ]
  }
 ],
 "metadata": {
  "kernelspec": {
   "display_name": "Python 3",
   "language": "python",
   "name": "python3"
  },
  "language_info": {
   "codemirror_mode": {
    "name": "ipython",
    "version": 3
   },
   "file_extension": ".py",
   "mimetype": "text/x-python",
   "name": "python",
   "nbconvert_exporter": "python",
   "pygments_lexer": "ipython3",
   "version": "3.8.5"
  }
 },
 "nbformat": 4,
 "nbformat_minor": 4
}
