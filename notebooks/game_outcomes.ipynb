{
 "cells": [
  {
   "cell_type": "code",
   "execution_count": 5,
   "metadata": {},
   "outputs": [],
   "source": [
    "import requests\n",
    "import pandas as pd\n",
    "\n",
    "from itertools import product"
   ]
  },
  {
   "cell_type": "code",
   "execution_count": 20,
   "metadata": {
    "collapsed": true
   },
   "outputs": [
    {
     "name": "stdout",
     "output_type": "stream",
     "text": [
      "Fetching 2001 regular\n",
      "Fetching 2001 postseason\n",
      "Fetching 2002 regular\n",
      "Fetching 2002 postseason\n",
      "Fetching 2003 regular\n",
      "Fetching 2003 postseason\n",
      "Fetching 2004 regular\n",
      "Fetching 2004 postseason\n",
      "Fetching 2005 regular\n",
      "Fetching 2005 postseason\n",
      "Fetching 2006 regular\n",
      "Fetching 2006 postseason\n",
      "Fetching 2007 regular\n",
      "Fetching 2007 postseason\n",
      "Fetching 2008 regular\n",
      "Fetching 2008 postseason\n",
      "Fetching 2009 regular\n",
      "Fetching 2009 postseason\n",
      "Fetching 2010 regular\n",
      "Fetching 2010 postseason\n",
      "Fetching 2011 regular\n",
      "Fetching 2011 postseason\n",
      "Fetching 2012 regular\n",
      "Fetching 2012 postseason\n",
      "Fetching 2013 regular\n",
      "Fetching 2013 postseason\n",
      "Fetching 2014 regular\n",
      "Fetching 2014 postseason\n",
      "Fetching 2015 regular\n",
      "Fetching 2015 postseason\n",
      "Fetching 2016 regular\n",
      "Fetching 2016 postseason\n",
      "Fetching 2017 regular\n",
      "Fetching 2017 postseason\n",
      "Fetching 2018 regular\n",
      "Fetching 2018 postseason\n",
      "Fetching 2019 regular\n",
      "Fetching 2019 postseason\n",
      "Fetching 2020 regular\n",
      "Fetching 2020 postseason\n"
     ]
    }
   ],
   "source": [
    "api = \"https://api.collegefootballdata.com/games?year={}&seasonType={}\"\n",
    "all_dfs = []\n",
    "\n",
    "for year, season in product(range(2001, 2021), [\"regular\", \"postseason\"]):\n",
    "    print(\"Fetching {} {}\".format(year, season))\n",
    "    r = requests.get(api.format(year, season))\n",
    "    df = pd.DataFrame(r.json())\n",
    "    all_dfs.append(df)\n",
    "    \n",
    "total = pd.concat(all_dfs)"
   ]
  },
  {
   "cell_type": "code",
   "execution_count": 22,
   "metadata": {},
   "outputs": [],
   "source": [
    "total.to_csv(\"../data/games.csv\")"
   ]
  }
 ],
 "metadata": {
  "kernelspec": {
   "display_name": "Python 3",
   "language": "python",
   "name": "python3"
  },
  "language_info": {
   "codemirror_mode": {
    "name": "ipython",
    "version": 3
   },
   "file_extension": ".py",
   "mimetype": "text/x-python",
   "name": "python",
   "nbconvert_exporter": "python",
   "pygments_lexer": "ipython3",
   "version": "3.8.5"
  }
 },
 "nbformat": 4,
 "nbformat_minor": 4
}
